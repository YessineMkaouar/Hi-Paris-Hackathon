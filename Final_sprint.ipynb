{
 "cells": [
  {
   "cell_type": "code",
   "execution_count": 1,
   "metadata": {},
   "outputs": [],
   "source": [
    "import pandas as pd"
   ]
  },
  {
   "cell_type": "code",
   "execution_count": null,
   "metadata": {},
   "outputs": [],
   "source": [
    "df = pd.read_csv('C:\\\\Users\\\\moham\\\\Desktop\\\\autres\\\\yessine\\\\Projects\\\\3ATA\\\\H!ckathon\\\\Final_Sprint\\\\X_train_Hi5.csv')"
   ]
  },
  {
   "cell_type": "code",
   "execution_count": 3,
   "metadata": {},
   "outputs": [
    {
     "name": "stdout",
     "output_type": "stream",
     "text": [
      "Colonnes à supprimer (plus de 40 % de valeurs manquantes) :\n",
      "['meteo_DRR', 'meteo_temperature_min_ground', 'meteo_temperature_min_50cm', 'meteo_pressure_avg', 'meteo_pression_maxi', 'meteo_wind_speed_avg_10m', 'meteo_wind_max', 'meteo_wind_direction_max_inst', 'meteo_time_wind_max', 'meteo_wind_avg', 'meteo_wind_direction_max_avg', 'meteo_time_wind_avg', 'meteo_wind_speed_avg_2m', 'meteo_wind_max_2m', 'meteo_wind_direction_max_inst_2m', 'meteo_time_wind_max_2m', 'meteo_wind_max_3s', 'meteo_time_wind_max_3s', 'meteo_humidity_min', 'meteo_time_humidity_min', 'meteo_humidity_max', 'meteo_time_humidity_max', 'meteo_humidity_duration_below_40%', 'meteo_humidity_duration_above_80%', 'meteo__pressure_saturation_avg', 'meteo_wetting_duration', 'meteo_humidity_avg', 'meteo_sunshine_duration', 'meteo_radiation', 'meteo_radiation_direct', 'meteo_sunshine_%', 'meteo_radiation_IR', 'meteo_radiation_UV_max', 'meteo_cloudiness', 'meteo_cloudiness_height', 'meteo_if_snow', 'meteo_if_fog', 'meteo_if_thunderstorm', 'meteo_if_sleet', 'meteo_if_hail', 'meteo_if_dew', 'meteo_if_black_ice', 'meteo_if_snow_ground', 'meteo_if_frost', 'meteo_if_smoke', 'meteo_if_mist', 'meteo_if_lightning', 'meteo_evapotranspiration_Monteith', 'meteo_radiation_UV', 'meteo_snow_height', 'meteo_snow_thickness_max', 'meteo_snow_thickness_6h']\n"
     ]
    }
   ],
   "source": [
    "# Calculer le pourcentage de valeurs manquantes par colonne\n",
    "missing_percentage = df.isnull().mean() * 100\n",
    "\n",
    "# Afficher les colonnes avec plus de 40 % de valeurs manquantes\n",
    "cols_to_drop = missing_percentage[missing_percentage > 40].index\n",
    "print(f\"Colonnes à supprimer (plus de 40 % de valeurs manquantes) :\\n{cols_to_drop.tolist()}\")"
   ]
  },
  {
   "cell_type": "code",
   "execution_count": 9,
   "metadata": {},
   "outputs": [
    {
     "name": "stdout",
     "output_type": "stream",
     "text": [
      "Nombre de colonnes après suppression : 84\n"
     ]
    }
   ],
   "source": [
    "# Supprimer ces colonnes\n",
    "df_cleaned = df.drop(columns=cols_to_drop)\n",
    "\n",
    "# Vérification\n",
    "print(f\"Nombre de colonnes après suppression : {df_cleaned.shape[1]}\")"
   ]
  },
  {
   "cell_type": "code",
   "execution_count": 10,
   "metadata": {},
   "outputs": [
    {
     "name": "stdout",
     "output_type": "stream",
     "text": [
      "Nombre de colonnes après suppression : 80\n"
     ]
    }
   ],
   "source": [
    "# Supprimer les colonnes contenant \"date\" dans leur nom\n",
    "df_cleaned = df_cleaned.loc[:, ~df_cleaned.columns.str.contains('date')]\n",
    "\n",
    "# Vérification\n",
    "print(f\"Nombre de colonnes après suppression : {df_cleaned.shape[1]}\")"
   ]
  },
  {
   "cell_type": "code",
   "execution_count": 15,
   "metadata": {},
   "outputs": [
    {
     "name": "stdout",
     "output_type": "stream",
     "text": [
      "Nombre de colonnes après suppression : 74\n"
     ]
    }
   ],
   "source": [
    "# Supprimer les colonnes contenant \"name\" dans leur nom\n",
    "df_cleaned = df_cleaned.loc[:, ~df_cleaned.columns.str.contains('name', case=False)]\n",
    "\n",
    "# Vérification\n",
    "print(f\"Nombre de colonnes après suppression : {df_cleaned.shape[1]}\")"
   ]
  },
  {
   "cell_type": "code",
   "execution_count": 20,
   "metadata": {},
   "outputs": [
    {
     "name": "stdout",
     "output_type": "stream",
     "text": [
      "Nombre de colonnes après suppression : 64\n"
     ]
    }
   ],
   "source": [
    "# Supprimer les colonnes contenant \"label\" dans leur nom\n",
    "df_cleaned = df_cleaned.loc[:, ~df_cleaned.columns.str.contains('label', case=False)]\n",
    "\n",
    "# Vérification\n",
    "print(f\"Nombre de colonnes après suppression : {df_cleaned.shape[1]}\")"
   ]
  },
  {
   "cell_type": "code",
   "execution_count": 21,
   "metadata": {},
   "outputs": [
    {
     "name": "stdout",
     "output_type": "stream",
     "text": [
      "Nombre de colonnes après suppression : 46\n"
     ]
    }
   ],
   "source": [
    "# Supprimer les colonnes contenant \"label\" dans leur nom\n",
    "df_cleaned = df_cleaned.loc[:, ~df_cleaned.columns.str.contains('code', case=False)]\n",
    "\n",
    "# Vérification\n",
    "print(f\"Nombre de colonnes après suppression : {df_cleaned.shape[1]}\")"
   ]
  },
  {
   "cell_type": "code",
   "execution_count": 25,
   "metadata": {},
   "outputs": [
    {
     "name": "stdout",
     "output_type": "stream",
     "text": [
      "Nombre de colonnes après suppression : 43\n"
     ]
    }
   ],
   "source": [
    "# Supprimer les colonnes contenant \"label\" dans leur nom\n",
    "df_cleaned = df_cleaned.loc[:, ~df_cleaned.columns.str.contains('id', case=False)]\n",
    "\n",
    "# Vérification\n",
    "print(f\"Nombre de colonnes après suppression : {df_cleaned.shape[1]}\")"
   ]
  },
  {
   "cell_type": "code",
   "execution_count": 32,
   "metadata": {},
   "outputs": [
    {
     "name": "stdout",
     "output_type": "stream",
     "text": [
      "Nombre de colonnes après suppression : 42\n"
     ]
    }
   ],
   "source": [
    "# Supprimer les colonnes contenant \"label\" dans leur nom\n",
    "df_cleaned = df_cleaned.loc[:, ~df_cleaned.columns.str.contains('mode', case=False)]\n",
    "\n",
    "# Vérification\n",
    "print(f\"Nombre de colonnes après suppression : {df_cleaned.shape[1]}\")"
   ]
  },
  {
   "cell_type": "code",
   "execution_count": null,
   "metadata": {},
   "outputs": [],
   "source": [
    "# Remplir les valeurs manquantes des variables continues\n",
    "for col in df_cleaned.select_dtypes(include=['float64', 'int64']).columns:\n",
    "    if 'temperature' in col or 'wind' in col or 'humidity' in col:\n",
    "        df_cleaned[col].fillna(df_cleaned[col].mean(), inplace=True)\n",
    "    else:\n",
    "        df_cleaned[col].fillna(df_cleaned[col].median(), inplace=True)\n",
    "\n",
    "# Remplir les valeurs manquantes des booléens ou catégoriques\n",
    "for col in df_cleaned.select_dtypes(include=['bool', 'object']).columns:\n",
    "    df_cleaned[col].fillna(df_cleaned[col].mode()[0], inplace=True)"
   ]
  },
  {
   "cell_type": "code",
   "execution_count": 13,
   "metadata": {},
   "outputs": [
    {
     "name": "stdout",
     "output_type": "stream",
     "text": [
      "0\n"
     ]
    }
   ],
   "source": [
    "print(df_cleaned.isnull().sum().sum())  # Nombre total de valeurs manquantes"
   ]
  },
  {
   "cell_type": "code",
   "execution_count": 39,
   "metadata": {},
   "outputs": [
    {
     "name": "stdout",
     "output_type": "stream",
     "text": [
      "Index(['piezo_status', 'piezo_qualification', 'hydro_hydro_quantity_elab',\n",
      "       'insee_%_agri', 'insee_med_living_level', 'insee_%_ind',\n",
      "       'insee_%_const', 'piezo_groundwater_level_category'],\n",
      "      dtype='object')\n"
     ]
    }
   ],
   "source": [
    "object_columns = df_cleaned.select_dtypes(include=['object']).columns\n",
    "print(object_columns)"
   ]
  },
  {
   "cell_type": "code",
   "execution_count": 42,
   "metadata": {},
   "outputs": [
    {
     "data": {
      "text/html": [
       "<div>\n",
       "<style scoped>\n",
       "    .dataframe tbody tr th:only-of-type {\n",
       "        vertical-align: middle;\n",
       "    }\n",
       "\n",
       "    .dataframe tbody tr th {\n",
       "        vertical-align: top;\n",
       "    }\n",
       "\n",
       "    .dataframe thead th {\n",
       "        text-align: right;\n",
       "    }\n",
       "</style>\n",
       "<table border=\"1\" class=\"dataframe\">\n",
       "  <thead>\n",
       "    <tr style=\"text-align: right;\">\n",
       "      <th></th>\n",
       "      <th>row_index</th>\n",
       "      <th>piezo_station_investigation_depth</th>\n",
       "      <th>piezo_station_altitude</th>\n",
       "      <th>piezo_station_longitude</th>\n",
       "      <th>piezo_station_latitude</th>\n",
       "      <th>piezo_status</th>\n",
       "      <th>piezo_qualification</th>\n",
       "      <th>meteo_latitude</th>\n",
       "      <th>meteo_longitude</th>\n",
       "      <th>meteo_altitude</th>\n",
       "      <th>...</th>\n",
       "      <th>prelev_volume_2</th>\n",
       "      <th>prelev_longitude_2</th>\n",
       "      <th>prelev_latitude_2</th>\n",
       "      <th>prelev_other_volume_sum</th>\n",
       "      <th>insee_%_agri</th>\n",
       "      <th>insee_pop_commune</th>\n",
       "      <th>insee_med_living_level</th>\n",
       "      <th>insee_%_ind</th>\n",
       "      <th>insee_%_const</th>\n",
       "      <th>piezo_groundwater_level_category</th>\n",
       "    </tr>\n",
       "  </thead>\n",
       "  <tbody>\n",
       "    <tr>\n",
       "      <th>12997</th>\n",
       "      <td>13650</td>\n",
       "      <td>11.0</td>\n",
       "      <td>238.36</td>\n",
       "      <td>5.009694</td>\n",
       "      <td>45.305838</td>\n",
       "      <td>Donnée contrôlée niveau 2</td>\n",
       "      <td>Correcte</td>\n",
       "      <td>5.036500</td>\n",
       "      <td>45.350333</td>\n",
       "      <td>288</td>\n",
       "      <td>...</td>\n",
       "      <td>2285777.0</td>\n",
       "      <td>4.812517</td>\n",
       "      <td>45.267427</td>\n",
       "      <td>54786872.0</td>\n",
       "      <td>39.3</td>\n",
       "      <td>670.0</td>\n",
       "      <td>22250</td>\n",
       "      <td>25.2</td>\n",
       "      <td>10.3</td>\n",
       "      <td>High</td>\n",
       "    </tr>\n",
       "    <tr>\n",
       "      <th>1747477</th>\n",
       "      <td>1837121</td>\n",
       "      <td>162.0</td>\n",
       "      <td>145.40</td>\n",
       "      <td>0.543303</td>\n",
       "      <td>47.971501</td>\n",
       "      <td>Donnée contrôlée niveau 2</td>\n",
       "      <td>Correcte</td>\n",
       "      <td>0.491833</td>\n",
       "      <td>47.984333</td>\n",
       "      <td>134</td>\n",
       "      <td>...</td>\n",
       "      <td>419064.0</td>\n",
       "      <td>0.537791</td>\n",
       "      <td>47.969252</td>\n",
       "      <td>9587188.0</td>\n",
       "      <td>8.4</td>\n",
       "      <td>2115.0</td>\n",
       "      <td>21020</td>\n",
       "      <td>13.9</td>\n",
       "      <td>11.4</td>\n",
       "      <td>Very High</td>\n",
       "    </tr>\n",
       "    <tr>\n",
       "      <th>1655967</th>\n",
       "      <td>1741152</td>\n",
       "      <td>50.0</td>\n",
       "      <td>165.35</td>\n",
       "      <td>5.176756</td>\n",
       "      <td>49.485299</td>\n",
       "      <td>Donnée contrôlée niveau 2</td>\n",
       "      <td>Correcte</td>\n",
       "      <td>5.209167</td>\n",
       "      <td>49.460167</td>\n",
       "      <td>166</td>\n",
       "      <td>...</td>\n",
       "      <td>476200.0</td>\n",
       "      <td>5.177153</td>\n",
       "      <td>49.367210</td>\n",
       "      <td>3536402.0</td>\n",
       "      <td>0.7</td>\n",
       "      <td>2471.0</td>\n",
       "      <td>19550</td>\n",
       "      <td>14.3</td>\n",
       "      <td>3.3</td>\n",
       "      <td>Low</td>\n",
       "    </tr>\n",
       "    <tr>\n",
       "      <th>1254000</th>\n",
       "      <td>1319007</td>\n",
       "      <td>75.4</td>\n",
       "      <td>168.80</td>\n",
       "      <td>-0.810171</td>\n",
       "      <td>46.798963</td>\n",
       "      <td>Donnée contrôlée niveau 2</td>\n",
       "      <td>Correcte</td>\n",
       "      <td>-0.880500</td>\n",
       "      <td>47.079500</td>\n",
       "      <td>134</td>\n",
       "      <td>...</td>\n",
       "      <td>398688.0</td>\n",
       "      <td>-0.910669</td>\n",
       "      <td>46.950633</td>\n",
       "      <td>4421824.0</td>\n",
       "      <td>0.3</td>\n",
       "      <td>5597.0</td>\n",
       "      <td>22320</td>\n",
       "      <td>47.2</td>\n",
       "      <td>5.6</td>\n",
       "      <td>Very High</td>\n",
       "    </tr>\n",
       "  </tbody>\n",
       "</table>\n",
       "<p>4 rows × 42 columns</p>\n",
       "</div>"
      ],
      "text/plain": [
       "         row_index  piezo_station_investigation_depth  piezo_station_altitude  \\\n",
       "12997        13650                               11.0                  238.36   \n",
       "1747477    1837121                              162.0                  145.40   \n",
       "1655967    1741152                               50.0                  165.35   \n",
       "1254000    1319007                               75.4                  168.80   \n",
       "\n",
       "         piezo_station_longitude  piezo_station_latitude  \\\n",
       "12997                   5.009694               45.305838   \n",
       "1747477                 0.543303               47.971501   \n",
       "1655967                 5.176756               49.485299   \n",
       "1254000                -0.810171               46.798963   \n",
       "\n",
       "                      piezo_status piezo_qualification  meteo_latitude  \\\n",
       "12997    Donnée contrôlée niveau 2            Correcte        5.036500   \n",
       "1747477  Donnée contrôlée niveau 2            Correcte        0.491833   \n",
       "1655967  Donnée contrôlée niveau 2            Correcte        5.209167   \n",
       "1254000  Donnée contrôlée niveau 2            Correcte       -0.880500   \n",
       "\n",
       "         meteo_longitude  meteo_altitude  ...  prelev_volume_2  \\\n",
       "12997          45.350333             288  ...        2285777.0   \n",
       "1747477        47.984333             134  ...         419064.0   \n",
       "1655967        49.460167             166  ...         476200.0   \n",
       "1254000        47.079500             134  ...         398688.0   \n",
       "\n",
       "         prelev_longitude_2  prelev_latitude_2  prelev_other_volume_sum  \\\n",
       "12997              4.812517          45.267427               54786872.0   \n",
       "1747477            0.537791          47.969252                9587188.0   \n",
       "1655967            5.177153          49.367210                3536402.0   \n",
       "1254000           -0.910669          46.950633                4421824.0   \n",
       "\n",
       "         insee_%_agri  insee_pop_commune  insee_med_living_level  insee_%_ind  \\\n",
       "12997            39.3              670.0                   22250         25.2   \n",
       "1747477           8.4             2115.0                   21020         13.9   \n",
       "1655967           0.7             2471.0                   19550         14.3   \n",
       "1254000           0.3             5597.0                   22320         47.2   \n",
       "\n",
       "         insee_%_const  piezo_groundwater_level_category  \n",
       "12997             10.3                              High  \n",
       "1747477           11.4                         Very High  \n",
       "1655967            3.3                               Low  \n",
       "1254000            5.6                         Very High  \n",
       "\n",
       "[4 rows x 42 columns]"
      ]
     },
     "execution_count": 42,
     "metadata": {},
     "output_type": "execute_result"
    }
   ],
   "source": [
    "df_cleaned.sample(4)"
   ]
  },
  {
   "cell_type": "code",
   "execution_count": 37,
   "metadata": {},
   "outputs": [
    {
     "name": "stdout",
     "output_type": "stream",
     "text": [
      "<class 'pandas.core.frame.DataFrame'>\n",
      "RangeIndex: 2830316 entries, 0 to 2830315\n",
      "Data columns (total 42 columns):\n",
      " #   Column                             Dtype  \n",
      "---  ------                             -----  \n",
      " 0   row_index                          int64  \n",
      " 1   piezo_station_investigation_depth  float64\n",
      " 2   piezo_station_altitude             float64\n",
      " 3   piezo_station_longitude            float64\n",
      " 4   piezo_station_latitude             float64\n",
      " 5   piezo_status                       object \n",
      " 6   piezo_qualification                object \n",
      " 7   meteo_latitude                     float64\n",
      " 8   meteo_longitude                    float64\n",
      " 9   meteo_altitude                     int64  \n",
      " 10  meteo_rain_height                  float64\n",
      " 11  meteo_temperature_min              float64\n",
      " 12  meteo_time_tn                      float64\n",
      " 13  meteo_temperature_max              float64\n",
      " 14  meteo_time_tx                      float64\n",
      " 15  meteo_temperature_avg              float64\n",
      " 16  meteo_temperature_avg_threshold    float64\n",
      " 17  meteo_frost_duration               float64\n",
      " 18  meteo_amplitude_tn_tx              float64\n",
      " 19  meteo_temperature_avg_tntm         float64\n",
      " 20  distance_piezo_meteo               float64\n",
      " 21  hydro_observation_result_elab      float64\n",
      " 22  hydro_longitude                    float64\n",
      " 23  hydro_latitude                     float64\n",
      " 24  hydro_hydro_quantity_elab          object \n",
      " 25  distance_piezo_hydro               float64\n",
      " 26  prelev_volume_0                    float64\n",
      " 27  prelev_longitude_0                 float64\n",
      " 28  prelev_latitude_0                  float64\n",
      " 29  prelev_volume_1                    float64\n",
      " 30  prelev_longitude_1                 float64\n",
      " 31  prelev_latitude_1                  float64\n",
      " 32  prelev_volume_2                    float64\n",
      " 33  prelev_longitude_2                 float64\n",
      " 34  prelev_latitude_2                  float64\n",
      " 35  prelev_other_volume_sum            float64\n",
      " 36  insee_%_agri                       object \n",
      " 37  insee_pop_commune                  float64\n",
      " 38  insee_med_living_level             object \n",
      " 39  insee_%_ind                        object \n",
      " 40  insee_%_const                      object \n",
      " 41  piezo_groundwater_level_category   object \n",
      "dtypes: float64(32), int64(2), object(8)\n",
      "memory usage: 906.9+ MB\n"
     ]
    }
   ],
   "source": [
    "df_cleaned.info()"
   ]
  },
  {
   "cell_type": "code",
   "execution_count": 38,
   "metadata": {},
   "outputs": [
    {
     "name": "stdout",
     "output_type": "stream",
     "text": [
      "piezo_status                          4\n",
      "piezo_qualification                   4\n",
      "hydro_hydro_quantity_elab             2\n",
      "insee_%_agri                        367\n",
      "insee_med_living_level              925\n",
      "insee_%_ind                         510\n",
      "insee_%_const                       408\n",
      "piezo_groundwater_level_category      5\n",
      "dtype: int64\n"
     ]
    }
   ],
   "source": [
    "unique_values = df_cleaned[object_columns].nunique()\n",
    "print(unique_values)"
   ]
  },
  {
   "cell_type": "code",
   "execution_count": 43,
   "metadata": {},
   "outputs": [
    {
     "name": "stdout",
     "output_type": "stream",
     "text": [
      "Nombre de colonnes après suppression : 38\n"
     ]
    }
   ],
   "source": [
    "columns_to_remove = ['insee_%_agri', 'insee_med_living_level', 'insee_%_ind', 'insee_%_const']\n",
    "df_cleaned.drop(columns=columns_to_remove, inplace=True)\n",
    "\n",
    "# Vérification\n",
    "print(f\"Nombre de colonnes après suppression : {df_cleaned.shape[1]}\")"
   ]
  },
  {
   "cell_type": "code",
   "execution_count": null,
   "metadata": {},
   "outputs": [],
   "source": [
    "from sklearn.model_selection import train_test_split\n",
    "from sklearn.preprocessing import LabelEncoder, StandardScaler\n",
    "from sklearn.metrics import accuracy_score, precision_score, recall_score, f1_score"
   ]
  },
  {
   "cell_type": "code",
   "execution_count": 46,
   "metadata": {},
   "outputs": [],
   "source": [
    "# Encodage des variables catégoriques\n",
    "label_encoders = {}\n",
    "for col in df_cleaned.select_dtypes(include=['object', 'category']).columns:\n",
    "    le = LabelEncoder()\n",
    "    df_cleaned[col] = le.fit_transform(df_cleaned[col].astype(str))\n",
    "    label_encoders[col] = le"
   ]
  },
  {
   "cell_type": "code",
   "execution_count": 47,
   "metadata": {},
   "outputs": [
    {
     "name": "stdout",
     "output_type": "stream",
     "text": [
      "Nombre de colonnes après suppression : 38\n"
     ]
    }
   ],
   "source": [
    "# Vérification\n",
    "print(f\"Nombre de colonnes après suppression : {df_cleaned.shape[1]}\")"
   ]
  },
  {
   "cell_type": "code",
   "execution_count": 48,
   "metadata": {},
   "outputs": [],
   "source": [
    "# Division des données en caractéristiques (X) et cible (y)\n",
    "X = df_cleaned.drop('piezo_groundwater_level_category', axis=1)\n",
    "y = df_cleaned['piezo_groundwater_level_category']\n",
    "\n",
    "# Division train/test\n",
    "X_train, X_test, y_train, y_test = train_test_split(X, y, test_size=0.2, random_state=42)\n",
    "\n",
    "# Standardiser les données\n",
    "scaler = StandardScaler()\n",
    "X_train = scaler.fit_transform(X_train)\n",
    "X_test = scaler.transform(X_test)"
   ]
  },
  {
   "cell_type": "code",
   "execution_count": null,
   "metadata": {},
   "outputs": [
    {
     "name": "stdout",
     "output_type": "stream",
     "text": [
      "Naive Bayes Metrics:\n",
      "Accuracy: 0.2010\n",
      "Precision: 0.2419\n",
      "Recall: 0.2010\n",
      "F1 Score: 0.1383\n"
     ]
    }
   ],
   "source": [
    "from sklearn.naive_bayes import GaussianNB\n",
    "\n",
    "# Modèle Naive Bayes\n",
    "nb_model = GaussianNB()\n",
    "nb_model.fit(X_train, y_train)\n",
    "y_pred_nb = nb_model.predict(X_test)\n",
    "\n",
    "# Évaluation Naive Bayes\n",
    "print(\"Naive Bayes Metrics:\")\n",
    "print(f\"Accuracy: {accuracy_score(y_test, y_pred_nb):.4f}\")\n",
    "print(f\"Precision: {precision_score(y_test, y_pred_nb, average='weighted'):.4f}\")\n",
    "print(f\"Recall: {recall_score(y_test, y_pred_nb, average='weighted'):.4f}\")\n",
    "print(f\"F1 Score: {f1_score(y_test, y_pred_nb, average='weighted'):.4f}\")"
   ]
  },
  {
   "cell_type": "code",
   "execution_count": null,
   "metadata": {},
   "outputs": [
    {
     "name": "stderr",
     "output_type": "stream",
     "text": [
      "c:\\Users\\moham\\AppData\\Local\\Programs\\Python\\Python310\\lib\\site-packages\\sklearn\\linear_model\\_logistic.py:1247: FutureWarning: 'multi_class' was deprecated in version 1.5 and will be removed in 1.7. From then on, it will always use 'multinomial'. Leave it to its default value to avoid this warning.\n",
      "  warnings.warn(\n"
     ]
    },
    {
     "name": "stdout",
     "output_type": "stream",
     "text": [
      "\n",
      "Logistic Regression Metrics:\n",
      "Accuracy: 0.2638\n",
      "Precision: 0.2666\n",
      "Recall: 0.2638\n",
      "F1 Score: 0.2616\n"
     ]
    }
   ],
   "source": [
    "from sklearn.linear_model import LogisticRegression\n",
    "\n",
    "# Modèle Régression Logistique (Softmax)\n",
    "log_reg = LogisticRegression(multi_class='multinomial', solver='lbfgs', max_iter=1000)\n",
    "log_reg.fit(X_train, y_train)\n",
    "y_pred_lr = log_reg.predict(X_test)\n",
    "\n",
    "# Évaluation Régression Logistique\n",
    "print(\"\\nLogistic Regression Metrics:\")\n",
    "print(f\"Accuracy: {accuracy_score(y_test, y_pred_lr):.4f}\")\n",
    "print(f\"Precision: {precision_score(y_test, y_pred_lr, average='weighted'):.4f}\")\n",
    "print(f\"Recall: {recall_score(y_test, y_pred_lr, average='weighted'):.4f}\")\n",
    "print(f\"F1 Score: {f1_score(y_test, y_pred_lr, average='weighted'):.4f}\")"
   ]
  },
  {
   "cell_type": "code",
   "execution_count": 52,
   "metadata": {},
   "outputs": [
    {
     "name": "stdout",
     "output_type": "stream",
     "text": [
      "\n",
      "KNN Metrics:\n",
      "Accuracy: 0.5374\n",
      "Precision: 0.5434\n",
      "Recall: 0.5374\n",
      "F1 Score: 0.5391\n"
     ]
    }
   ],
   "source": [
    "from sklearn.neighbors import KNeighborsClassifier\n",
    "\n",
    "# Modèle KNN\n",
    "knn_model = KNeighborsClassifier(n_neighbors=10)\n",
    "knn_model.fit(X_train, y_train)\n",
    "y_pred_knn = knn_model.predict(X_test)\n",
    "\n",
    "# Évaluation KNN\n",
    "print(\"\\nKNN Metrics:\")\n",
    "print(f\"Accuracy: {accuracy_score(y_test, y_pred_knn):.4f}\")\n",
    "print(f\"Precision: {precision_score(y_test, y_pred_knn, average='weighted'):.4f}\")\n",
    "print(f\"Recall: {recall_score(y_test, y_pred_knn, average='weighted'):.4f}\")\n",
    "print(f\"F1 Score: {f1_score(y_test, y_pred_knn, average='weighted'):.4f}\")"
   ]
  },
  {
   "cell_type": "code",
   "execution_count": 51,
   "metadata": {},
   "outputs": [
    {
     "name": "stdout",
     "output_type": "stream",
     "text": [
      "\n",
      "Random Forest Metrics:\n",
      "Accuracy: 0.9088\n",
      "Precision: 0.9091\n",
      "Recall: 0.9088\n",
      "F1 Score: 0.9089\n"
     ]
    }
   ],
   "source": [
    "from sklearn.ensemble import RandomForestClassifier\n",
    "\n",
    "# Modèle Random Forest\n",
    "rf_model = RandomForestClassifier(n_estimators=100, random_state=42)\n",
    "rf_model.fit(X_train, y_train)\n",
    "y_pred_rf = rf_model.predict(X_test)\n",
    "\n",
    "# Évaluation Random Forest\n",
    "print(\"\\nRandom Forest Metrics:\")\n",
    "print(f\"Accuracy: {accuracy_score(y_test, y_pred_rf):.4f}\")\n",
    "print(f\"Precision: {precision_score(y_test, y_pred_rf, average='weighted'):.4f}\")\n",
    "print(f\"Recall: {recall_score(y_test, y_pred_rf, average='weighted'):.4f}\")\n",
    "print(f\"F1 Score: {f1_score(y_test, y_pred_rf, average='weighted'):.4f}\")"
   ]
  },
  {
   "cell_type": "code",
   "execution_count": 54,
   "metadata": {},
   "outputs": [
    {
     "data": {
      "image/png": "[encoded data removed]",
      "text/plain": [
       "<Figure size 1000x700 with 2 Axes>"
      ]
     },
     "metadata": {},
     "output_type": "display_data"
    }
   ],
   "source": [
    "import seaborn as sns\n",
    "from sklearn.metrics import confusion_matrix\n",
    "\n",
    "import matplotlib.pyplot as plt\n",
    "\n",
    "# Calculate the confusion matrix\n",
    "cm = confusion_matrix(y_test, y_pred_rf)\n",
    "\n",
    "# Plot the confusion matrix\n",
    "plt.figure(figsize=(10, 7))\n",
    "sns.heatmap(cm, annot=True, fmt='d', cmap='Blues', xticklabels=label_encoders[col].classes_, yticklabels=label_encoders[col].classes_)\n",
    "plt.xlabel('Predicted')\n",
    "plt.ylabel('Actual')\n",
    "plt.title('Confusion Matrix')\n",
    "plt.show()"
   ]
  }
 ],
 "metadata": {
  "kernelspec": {
   "display_name": "Python 3",
   "language": "python",
   "name": "python3"
  },
  "language_info": {
   "codemirror_mode": {
    "name": "ipython",
    "version": 3
   },
   "file_extension": ".py",
   "mimetype": "text/x-python",
   "name": "python",
   "nbconvert_exporter": "python",
   "pygments_lexer": "ipython3",
   "version": "3.10.5"
  }
 },
 "nbformat": 4,
 "nbformat_minor": 2
}
